{
 "cells": [
  {
   "cell_type": "markdown",
   "id": "nuclear-basis",
   "metadata": {},
   "source": [
    "# LSTM实现分类任务"
   ]
  },
  {
   "cell_type": "markdown",
   "id": "square-preliminary",
   "metadata": {},
   "source": [
    "## 数据集获取"
   ]
  },
  {
   "cell_type": "markdown",
   "id": "underlying-capital",
   "metadata": {},
   "source": [
    "本次使用数据集为`MNIST`数据集，为了方便起见，这次数据集的读取采用"
   ]
  },
  {
   "cell_type": "markdown",
   "id": "signed-carrier",
   "metadata": {},
   "source": [
    "## 导入必要的包"
   ]
  },
  {
   "cell_type": "code",
   "execution_count": 2,
   "id": "social-expert",
   "metadata": {},
   "outputs": [
    {
     "data": {
      "text/plain": [
       "'2.0.0-rc1'"
      ]
     },
     "execution_count": 2,
     "metadata": {},
     "output_type": "execute_result"
    }
   ],
   "source": [
    "import paddle\n",
    "import paddle.nn as nn\n",
    "import numpy as np\n",
    "import os\n",
    "from paddle.vision.datasets import MNIST\n",
    "from paddle.io import Dataset\n",
    "import matplotlib.pyplot as plt\n",
    "import warnings\n",
    "warnings.filterwarnings(\"ignore\")\n",
    "\n",
    "paddle.__version__"
   ]
  },
  {
   "cell_type": "markdown",
   "id": "worse-failure",
   "metadata": {},
   "source": [
    "## 数据处理"
   ]
  },
  {
   "cell_type": "code",
   "execution_count": 2,
   "id": "abstract-arrival",
   "metadata": {},
   "outputs": [],
   "source": [
    "train_dataset = MNIST(mode='train')\n",
    "val_dataset = MNIST(mode='test')"
   ]
  },
  {
   "cell_type": "code",
   "execution_count": 3,
   "id": "danish-minutes",
   "metadata": {},
   "outputs": [],
   "source": [
    "def plot_num_images(num):\n",
    "    if num < 1:\n",
    "        print('INFO:The number of input pictures must be greater than zero!')\n",
    "    else:\n",
    "        choose_list = []\n",
    "        for i in range(num):\n",
    "            choose_n = np.random.randint(len(train_dataset))\n",
    "            choose_list.append(choose_n)\n",
    "        fig = plt.gcf()\n",
    "        fig.set_size_inches(18, 5)\n",
    "        for i in range(num):\n",
    "            ax_img = plt.subplot(2, 8, i + 1)\n",
    "            plt_img = train_dataset[choose_list[i]][0]\n",
    "            ax_img.imshow(plt_img, cmap='binary')\n",
    "            ax_img.set_title(str(train_dataset[choose_list[i]][1].item()),\n",
    "                             fontsize=10)\n",
    "        plt.show()"
   ]
  },
  {
   "cell_type": "code",
   "execution_count": 4,
   "id": "twenty-female",
   "metadata": {},
   "outputs": [
    {
     "data": {
      "image/png": "[encoded data removed]",
      "text/plain": [
       "<Figure size 1296x360 with 16 Axes>"
      ]
     },
     "metadata": {
      "needs_background": "light"
     },
     "output_type": "display_data"
    }
   ],
   "source": [
    "plot_num_images(16)"
   ]
  },
  {
   "cell_type": "markdown",
   "id": "wired-import",
   "metadata": {},
   "source": [
    "## 数据装载"
   ]
  },
  {
   "cell_type": "code",
   "execution_count": 5,
   "id": "turkish-yorkshire",
   "metadata": {},
   "outputs": [],
   "source": [
    "class MnnistDataset(Dataset):\n",
    "    def __init__(self, mode='train'):\n",
    "        super(MnnistDataset, self).__init__()\n",
    "        if mode == 'train':\n",
    "            self.data = [[np.array(train_dataset[i][0]).astype('float32'), train_dataset[i][1].astype('int64')] for i in range(len(train_dataset))]\n",
    "        else:\n",
    "            self.data = [[np.array(val_dataset[i][0]).astype('float32'), val_dataset[i][1].astype('int64')] for i in range(len(val_dataset))]\n",
    "\n",
    "    def __getitem__(self, index):\n",
    "        data = self.data[index][0]\n",
    "        label = self.data[index][1]\n",
    "\n",
    "        return data, label\n",
    "\n",
    "    def __len__(self):\n",
    "        return len(self.data)"
   ]
  },
  {
   "cell_type": "code",
   "execution_count": 57,
   "id": "celtic-sucking",
   "metadata": {},
   "outputs": [],
   "source": [
    "train_loader = paddle.io.DataLoader(MnnistDataset(mode='train'), batch_size=10000, shuffle=True)\n",
    "val_loader = paddle.io.DataLoader(MnnistDataset(mode='val'), batch_size=10000, shuffle=True)"
   ]
  },
  {
   "cell_type": "markdown",
   "id": "numerical-quebec",
   "metadata": {},
   "source": [
    "## 建模训练"
   ]
  },
  {
   "cell_type": "code",
   "execution_count": 7,
   "id": "retained-device",
   "metadata": {},
   "outputs": [],
   "source": [
    "class RNN(nn.Layer):\n",
    "    def __init__(self):\n",
    "        super(RNN, self).__init__()\n",
    "\n",
    "        self.rnn = nn.LSTM(\n",
    "            input_size=28,\n",
    "            hidden_size=64,\n",
    "            num_layers=1,\n",
    "        )\n",
    "        self.out = nn.Linear(64, 10)\n",
    "\n",
    "    def forward(self, x):\n",
    "        r_out, (h_n, h_c) = self.rnn(x, None)\n",
    "        out = self.out(r_out[:, -1, :])\n",
    "        \n",
    "        return out"
   ]
  },
  {
   "cell_type": "code",
   "execution_count": 8,
   "id": "liquid-salmon",
   "metadata": {},
   "outputs": [],
   "source": [
    "epochs = 20\n",
    "batch_size = 32"
   ]
  },
  {
   "cell_type": "code",
   "execution_count": 16,
   "id": "qualified-cambodia",
   "metadata": {},
   "outputs": [
    {
     "name": "stdout",
     "output_type": "stream",
     "text": [
      "----------------------------------------------------------------------------------------------\n",
      " Layer (type)       Input Shape                   Output Shape                   Param #    \n",
      "==============================================================================================\n",
      "    LSTM-6      [[1, 28, 28], None]  [[1, 28, 64], [[1, 1, 64], [1, 1, 64]]]     24,064     \n",
      "   Linear-6          [[1, 64]]                       [1, 10]                       650      \n",
      "==============================================================================================\n",
      "Total params: 24,714\n",
      "Trainable params: 24,714\n",
      "Non-trainable params: 0\n",
      "----------------------------------------------------------------------------------------------\n",
      "Input size (MB): 0.00\n",
      "Forward/backward pass size (MB): 0.04\n",
      "Params size (MB): 0.09\n",
      "Estimated Total Size (MB): 0.14\n",
      "----------------------------------------------------------------------------------------------\n",
      "\n"
     ]
    },
    {
     "data": {
      "text/plain": [
       "{'total_params': 24714, 'trainable_params': 24714}"
      ]
     },
     "execution_count": 16,
     "metadata": {},
     "output_type": "execute_result"
    }
   ],
   "source": [
    "paddle.summary(RNN(), (1, 28, 28))"
   ]
  },
  {
   "cell_type": "code",
   "execution_count": 17,
   "id": "located-carry",
   "metadata": {},
   "outputs": [
    {
     "name": "stdout",
     "output_type": "stream",
     "text": [
      "The loss value printed in the log is the current step, and the metric is the average value of previous step.\n",
      "Epoch 1/20\n",
      "step 6/6 [==============================] - loss: 1.9152 - acc: 0.3026 - 400ms/step\n",
      "Eval begin...\n",
      "The loss value printed in the log is the current batch, and the metric is the average value of previous step.\n",
      "step 1/1 [==============================] - loss: 1.8194 - acc: 0.4652 - 381ms/step\n",
      "Eval samples: 10000\n",
      "Epoch 2/20\n",
      "step 6/6 [==============================] - loss: 1.3814 - acc: 0.5162 - 260ms/step\n",
      "Eval begin...\n",
      "The loss value printed in the log is the current batch, and the metric is the average value of previous step.\n",
      "step 1/1 [==============================] - loss: 1.2895 - acc: 0.6251 - 217ms/step\n",
      "Eval samples: 10000\n",
      "Epoch 3/20\n",
      "step 6/6 [==============================] - loss: 0.9554 - acc: 0.6603 - 285ms/step\n",
      "Eval begin...\n",
      "The loss value printed in the log is the current batch, and the metric is the average value of previous step.\n",
      "step 1/1 [==============================] - loss: 0.8986 - acc: 0.7120 - 223ms/step\n",
      "Eval samples: 10000\n",
      "Epoch 4/20\n",
      "step 6/6 [==============================] - loss: 0.7356 - acc: 0.7341 - 255ms/step\n",
      "Eval begin...\n",
      "The loss value printed in the log is the current batch, and the metric is the average value of previous step.\n",
      "step 1/1 [==============================] - loss: 0.6983 - acc: 0.7716 - 279ms/step\n",
      "Eval samples: 10000\n",
      "Epoch 5/20\n",
      "step 6/6 [==============================] - loss: 0.5868 - acc: 0.7831 - 266ms/step\n",
      "Eval begin...\n",
      "The loss value printed in the log is the current batch, and the metric is the average value of previous step.\n",
      "step 1/1 [==============================] - loss: 0.5834 - acc: 0.8003 - 224ms/step\n",
      "Eval samples: 10000\n",
      "Epoch 6/20\n",
      "step 6/6 [==============================] - loss: 0.5230 - acc: 0.8190 - 258ms/step\n",
      "Eval begin...\n",
      "The loss value printed in the log is the current batch, and the metric is the average value of previous step.\n",
      "step 1/1 [==============================] - loss: 0.5126 - acc: 0.8278 - 240ms/step\n",
      "Eval samples: 10000\n",
      "Epoch 7/20\n",
      "step 6/6 [==============================] - loss: 0.4556 - acc: 0.8410 - 273ms/step\n",
      "Eval begin...\n",
      "The loss value printed in the log is the current batch, and the metric is the average value of previous step.\n",
      "step 1/1 [==============================] - loss: 0.4599 - acc: 0.8451 - 244ms/step\n",
      "Eval samples: 10000\n",
      "Epoch 8/20\n",
      "step 6/6 [==============================] - loss: 0.4119 - acc: 0.8561 - 258ms/step\n",
      "Eval begin...\n",
      "The loss value printed in the log is the current batch, and the metric is the average value of previous step.\n",
      "step 1/1 [==============================] - loss: 0.4258 - acc: 0.8578 - 307ms/step\n",
      "Eval samples: 10000\n",
      "Epoch 9/20\n",
      "step 6/6 [==============================] - loss: 0.3860 - acc: 0.8687 - 249ms/step\n",
      "Eval begin...\n",
      "The loss value printed in the log is the current batch, and the metric is the average value of previous step.\n",
      "step 1/1 [==============================] - loss: 0.4050 - acc: 0.8619 - 228ms/step\n",
      "Eval samples: 10000\n",
      "Epoch 10/20\n",
      "step 6/6 [==============================] - loss: 0.3763 - acc: 0.8751 - 257ms/step\n",
      "Eval begin...\n",
      "The loss value printed in the log is the current batch, and the metric is the average value of previous step.\n",
      "step 1/1 [==============================] - loss: 0.3850 - acc: 0.8689 - 243ms/step\n",
      "Eval samples: 10000\n",
      "Epoch 11/20\n",
      "step 6/6 [==============================] - loss: 0.3569 - acc: 0.8821 - 268ms/step\n",
      "Eval begin...\n",
      "The loss value printed in the log is the current batch, and the metric is the average value of previous step.\n",
      "step 1/1 [==============================] - loss: 0.3643 - acc: 0.8756 - 240ms/step\n",
      "Eval samples: 10000\n",
      "Epoch 12/20\n",
      "step 6/6 [==============================] - loss: 0.3407 - acc: 0.8884 - 258ms/step\n",
      "Eval begin...\n",
      "The loss value printed in the log is the current batch, and the metric is the average value of previous step.\n",
      "step 1/1 [==============================] - loss: 0.3515 - acc: 0.8801 - 247ms/step\n",
      "Eval samples: 10000\n",
      "Epoch 13/20\n",
      "step 6/6 [==============================] - loss: 0.3212 - acc: 0.8932 - 266ms/step\n",
      "Eval begin...\n",
      "The loss value printed in the log is the current batch, and the metric is the average value of previous step.\n",
      "step 1/1 [==============================] - loss: 0.3413 - acc: 0.8839 - 224ms/step\n",
      "Eval samples: 10000\n",
      "Epoch 14/20\n",
      "step 6/6 [==============================] - loss: 0.3172 - acc: 0.8977 - 253ms/step\n",
      "Eval begin...\n",
      "The loss value printed in the log is the current batch, and the metric is the average value of previous step.\n",
      "step 1/1 [==============================] - loss: 0.3309 - acc: 0.8860 - 228ms/step\n",
      "Eval samples: 10000\n",
      "Epoch 15/20\n",
      "step 6/6 [==============================] - loss: 0.2890 - acc: 0.9016 - 254ms/step\n",
      "Eval begin...\n",
      "The loss value printed in the log is the current batch, and the metric is the average value of previous step.\n",
      "step 1/1 [==============================] - loss: 0.3250 - acc: 0.8892 - 303ms/step\n",
      "Eval samples: 10000\n",
      "Epoch 16/20\n",
      "step 6/6 [==============================] - loss: 0.2911 - acc: 0.9046 - 242ms/step\n",
      "Eval begin...\n",
      "The loss value printed in the log is the current batch, and the metric is the average value of previous step.\n",
      "step 1/1 [==============================] - loss: 0.3183 - acc: 0.8921 - 225ms/step\n",
      "Eval samples: 10000\n",
      "Epoch 17/20\n",
      "step 6/6 [==============================] - loss: 0.2639 - acc: 0.9083 - 279ms/step\n",
      "Eval begin...\n",
      "The loss value printed in the log is the current batch, and the metric is the average value of previous step.\n",
      "step 1/1 [==============================] - loss: 0.3128 - acc: 0.8922 - 255ms/step\n",
      "Eval samples: 10000\n",
      "Epoch 18/20\n",
      "step 6/6 [==============================] - loss: 0.2732 - acc: 0.9118 - 277ms/step\n",
      "Eval begin...\n",
      "The loss value printed in the log is the current batch, and the metric is the average value of previous step.\n",
      "step 1/1 [==============================] - loss: 0.3074 - acc: 0.8954 - 567ms/step\n",
      "Eval samples: 10000\n",
      "Epoch 19/20\n",
      "step 6/6 [==============================] - loss: 0.2579 - acc: 0.9142 - 362ms/step\n",
      "Eval begin...\n",
      "The loss value printed in the log is the current batch, and the metric is the average value of previous step.\n",
      "step 1/1 [==============================] - loss: 0.3046 - acc: 0.8968 - 281ms/step\n",
      "Eval samples: 10000\n",
      "Epoch 20/20\n",
      "step 6/6 [==============================] - loss: 0.2587 - acc: 0.9173 - 354ms/step\n",
      "Eval begin...\n",
      "The loss value printed in the log is the current batch, and the metric is the average value of previous step.\n",
      "step 1/1 [==============================] - loss: 0.2984 - acc: 0.8977 - 350ms/step\n",
      "Eval samples: 10000\n"
     ]
    }
   ],
   "source": [
    "model = paddle.Model(RNN())\n",
    "\n",
    "model.prepare(optimizer=paddle.optimizer.Adam(learning_rate=0.005, parameters=model.parameters()),\n",
    "              loss=paddle.nn.CrossEntropyLoss(),\n",
    "              metrics=paddle.metric.Accuracy())\n",
    "\n",
    "model.fit(train_loader,\n",
    "          val_loader,\n",
    "          epochs=epochs,\n",
    "          batch_size=batch_size,\n",
    "          verbose=1)"
   ]
  },
  {
   "cell_type": "code",
   "execution_count": 18,
   "id": "nearby-murder",
   "metadata": {},
   "outputs": [
    {
     "name": "stdout",
     "output_type": "stream",
     "text": [
      "Eval begin...\n",
      "The loss value printed in the log is the current batch, and the metric is the average value of previous step.\n",
      "step 1/1 - loss: 0.2984 - acc: 0.8977 - 307ms/step\n",
      "Eval samples: 10000\n"
     ]
    },
    {
     "data": {
      "text/plain": [
       "{'loss': [0.29836994], 'acc': 0.8977}"
      ]
     },
     "execution_count": 18,
     "metadata": {},
     "output_type": "execute_result"
    }
   ],
   "source": [
    "model.evaluate(val_loader)"
   ]
  },
  {
   "cell_type": "markdown",
   "id": "tamil-player",
   "metadata": {},
   "source": [
    "# LSTM实现回归任务"
   ]
  },
  {
   "cell_type": "markdown",
   "id": "adapted-moldova",
   "metadata": {},
   "source": [
    "## 数据集获取"
   ]
  },
  {
   "cell_type": "markdown",
   "id": "stable-concord",
   "metadata": {},
   "source": [
    "数据集可在[AIStudio平台](https://aistudio.baidu.com/aistudio/datasetdetail/68632)进行下载\n",
    "**波士顿房价数据集包括506个样本，每个样本包括12个特征变量和该地区的平均房价，房价（单价）显然和多个特征变量相关，不是单变量线性回归（一元线性回归）问题，选择多个特征变量来建立线性方程，这就是多变量线性回归（多元线性回归）问题**\n",
    "\n",
    "|变量| 含义 |\n",
    "|--|--|\n",
    "| CRIM | 城镇人均犯罪率 |\n",
    "| ZN| 住宅用地超过25,000平方英尺以上的比例 |\n",
    "| INDUS| 城镇非零售商用土地的比例（即工业或农业等用地比例） |\n",
    "| CHAS| 查尔斯河虚拟变量（边界是河，则为1；否则为0） |\n",
    "| NOX | 一氧化氮浓度（百万分之几） |\n",
    "| RM| 每个住宅的平均房间数 |\n",
    "| AGE| 1940 年之前建成的自用房屋比例 |\n",
    "| DIS| 到波士顿五个中心区域的加权距离（与繁华闹市的距离，区分郊区与市区） |\n",
    "| RAD| 高速公路通行能力指数（辐射性公路的靠近指数） |\n",
    "| TAX | 每10,000美元的全额财产税率 |\n",
    "| PTRATIO| 按镇划分的城镇师生比例 |\n",
    "| B | 1000(Bk-0.63)^2其中Bk是城镇黑人比例 |\n",
    "| LSTAT| 人口中地位低下者的百分比 |\n",
    "| MEDV| 自有住房的中位数价值（单位：千美元） |"
   ]
  },
  {
   "cell_type": "code",
   "execution_count": 3,
   "id": "norman-kelly",
   "metadata": {},
   "outputs": [],
   "source": [
    "import pandas as pd"
   ]
  },
  {
   "cell_type": "code",
   "execution_count": 4,
   "id": "going-preliminary",
   "metadata": {},
   "outputs": [],
   "source": [
    "paddle.seed(7)\n",
    "\n",
    "data_frame = pd.read_csv('./housing.csv', header=None)"
   ]
  },
  {
   "cell_type": "code",
   "execution_count": 5,
   "id": "distributed-omega",
   "metadata": {},
   "outputs": [],
   "source": [
    "all_data = []\n",
    "\n",
    "for column in range(len(data_frame)):\n",
    "    column_data = []\n",
    "    for data in list(data_frame.iloc[column])[0].split(' '):\n",
    "        if data != '':\n",
    "            column_data.append(float(data))\n",
    "    all_data.append(column_data)\n",
    "\n",
    "all_data = np.array(all_data)"
   ]
  },
  {
   "cell_type": "code",
   "execution_count": 6,
   "id": "backed-count",
   "metadata": {},
   "outputs": [],
   "source": [
    "x_data = all_data[:, :13]\n",
    "y_data = all_data[:, 13]"
   ]
  },
  {
   "cell_type": "code",
   "execution_count": 7,
   "id": "controversial-struggle",
   "metadata": {},
   "outputs": [
    {
     "name": "stdout",
     "output_type": "stream",
     "text": [
      "x_data:\n",
      " [[6.3200e-03 1.8000e+01 2.3100e+00 ... 1.5300e+01 3.9690e+02 4.9800e+00]\n",
      " [2.7310e-02 0.0000e+00 7.0700e+00 ... 1.7800e+01 3.9690e+02 9.1400e+00]\n",
      " [2.7290e-02 0.0000e+00 7.0700e+00 ... 1.7800e+01 3.9283e+02 4.0300e+00]\n",
      " ...\n",
      " [6.0760e-02 0.0000e+00 1.1930e+01 ... 2.1000e+01 3.9690e+02 5.6400e+00]\n",
      " [1.0959e-01 0.0000e+00 1.1930e+01 ... 2.1000e+01 3.9345e+02 6.4800e+00]\n",
      " [4.7410e-02 0.0000e+00 1.1930e+01 ... 2.1000e+01 3.9690e+02 7.8800e+00]] \n",
      " x_data shape: (506, 13) \n",
      "y_data:\n",
      " [24.  21.6 34.7 33.4 36.2 28.7 22.9 27.1 16.5 18.9 15.  18.9 21.7 20.4\n",
      " 18.2 19.9 23.1 17.5 20.2 18.2 13.6 19.6 15.2 14.5 15.6 13.9 16.6 14.8\n",
      " 18.4 21.  12.7 14.5 13.2 13.1 13.5 18.9 20.  21.  24.7 30.8 34.9 26.6\n",
      " 25.3 24.7 21.2 19.3 20.  16.6 14.4 19.4 19.7 20.5 25.  23.4 18.9 35.4\n",
      " 24.7 31.6 23.3 19.6 18.7 16.  22.2 25.  33.  23.5 19.4 22.  17.4 20.9\n",
      " 24.2 21.7 22.8 23.4 24.1 21.4 20.  20.8 21.2 20.3 28.  23.9 24.8 22.9\n",
      " 23.9 26.6 22.5 22.2 23.6 28.7 22.6 22.  22.9 25.  20.6 28.4 21.4 38.7\n",
      " 43.8 33.2 27.5 26.5 18.6 19.3 20.1 19.5 19.5 20.4 19.8 19.4 21.7 22.8\n",
      " 18.8 18.7 18.5 18.3 21.2 19.2 20.4 19.3 22.  20.3 20.5 17.3 18.8 21.4\n",
      " 15.7 16.2 18.  14.3 19.2 19.6 23.  18.4 15.6 18.1 17.4 17.1 13.3 17.8\n",
      " 14.  14.4 13.4 15.6 11.8 13.8 15.6 14.6 17.8 15.4 21.5 19.6 15.3 19.4\n",
      " 17.  15.6 13.1 41.3 24.3 23.3 27.  50.  50.  50.  22.7 25.  50.  23.8\n",
      " 23.8 22.3 17.4 19.1 23.1 23.6 22.6 29.4 23.2 24.6 29.9 37.2 39.8 36.2\n",
      " 37.9 32.5 26.4 29.6 50.  32.  29.8 34.9 37.  30.5 36.4 31.1 29.1 50.\n",
      " 33.3 30.3 34.6 34.9 32.9 24.1 42.3 48.5 50.  22.6 24.4 22.5 24.4 20.\n",
      " 21.7 19.3 22.4 28.1 23.7 25.  23.3 28.7 21.5 23.  26.7 21.7 27.5 30.1\n",
      " 44.8 50.  37.6 31.6 46.7 31.5 24.3 31.7 41.7 48.3 29.  24.  25.1 31.5\n",
      " 23.7 23.3 22.  20.1 22.2 23.7 17.6 18.5 24.3 20.5 24.5 26.2 24.4 24.8\n",
      " 29.6 42.8 21.9 20.9 44.  50.  36.  30.1 33.8 43.1 48.8 31.  36.5 22.8\n",
      " 30.7 50.  43.5 20.7 21.1 25.2 24.4 35.2 32.4 32.  33.2 33.1 29.1 35.1\n",
      " 45.4 35.4 46.  50.  32.2 22.  20.1 23.2 22.3 24.8 28.5 37.3 27.9 23.9\n",
      " 21.7 28.6 27.1 20.3 22.5 29.  24.8 22.  26.4 33.1 36.1 28.4 33.4 28.2\n",
      " 22.8 20.3 16.1 22.1 19.4 21.6 23.8 16.2 17.8 19.8 23.1 21.  23.8 23.1\n",
      " 20.4 18.5 25.  24.6 23.  22.2 19.3 22.6 19.8 17.1 19.4 22.2 20.7 21.1\n",
      " 19.5 18.5 20.6 19.  18.7 32.7 16.5 23.9 31.2 17.5 17.2 23.1 24.5 26.6\n",
      " 22.9 24.1 18.6 30.1 18.2 20.6 17.8 21.7 22.7 22.6 25.  19.9 20.8 16.8\n",
      " 21.9 27.5 21.9 23.1 50.  50.  50.  50.  50.  13.8 13.8 15.  13.9 13.3\n",
      " 13.1 10.2 10.4 10.9 11.3 12.3  8.8  7.2 10.5  7.4 10.2 11.5 15.1 23.2\n",
      "  9.7 13.8 12.7 13.1 12.5  8.5  5.   6.3  5.6  7.2 12.1  8.3  8.5  5.\n",
      " 11.9 27.9 17.2 27.5 15.  17.2 17.9 16.3  7.   7.2  7.5 10.4  8.8  8.4\n",
      " 16.7 14.2 20.8 13.4 11.7  8.3 10.2 10.9 11.   9.5 14.5 14.1 16.1 14.3\n",
      " 11.7 13.4  9.6  8.7  8.4 12.8 10.5 17.1 18.4 15.4 10.8 11.8 14.9 12.6\n",
      " 14.1 13.  13.4 15.2 16.1 17.8 14.9 14.1 12.7 13.5 14.9 20.  16.4 17.7\n",
      " 19.5 20.2 21.4 19.9 19.  19.1 19.1 20.1 19.9 19.6 23.2 29.8 13.8 13.3\n",
      " 16.7 12.  14.6 21.4 23.  23.7 25.  21.8 20.6 21.2 19.1 20.6 15.2  7.\n",
      "  8.1 13.6 20.1 21.8 24.5 23.1 19.7 18.3 21.2 17.5 16.8 22.4 20.6 23.9\n",
      " 22.  11.9] \n",
      " y_data shape: (506,)\n"
     ]
    }
   ],
   "source": [
    "print('x_data:\\n', x_data, '\\n x_data shape:', x_data.shape,\n",
    "      '\\ny_data:\\n', y_data, '\\n y_data shape:', y_data.shape)"
   ]
  },
  {
   "cell_type": "markdown",
   "id": "requested-music",
   "metadata": {},
   "source": [
    "## 数据集装载"
   ]
  },
  {
   "cell_type": "code",
   "execution_count": 8,
   "id": "fifteen-gathering",
   "metadata": {},
   "outputs": [],
   "source": [
    "class BreastDataset(Dataset):\n",
    "    def __init__(self, mode='train'):\n",
    "        super(BreastDataset, self).__init__()\n",
    "        self.data = [[x_data[i].reshape(-1, 1).astype('float32'), y_data[i].astype('float32')] for i in range(x_data.shape[0])]\n",
    "\n",
    "    def __getitem__(self, index):\n",
    "        data = self.data[index][0]\n",
    "        label = self.data[index][1]\n",
    "\n",
    "        return data, label\n",
    "\n",
    "    def __len__(self):\n",
    "        return len(self.data)"
   ]
  },
  {
   "cell_type": "code",
   "execution_count": 9,
   "id": "printable-average",
   "metadata": {},
   "outputs": [],
   "source": [
    "train_loader = paddle.io.DataLoader(BreastDataset(mode='train'), batch_size=100, shuffle=True)"
   ]
  },
  {
   "cell_type": "markdown",
   "id": "exterior-recruitment",
   "metadata": {},
   "source": [
    "## 建模训练"
   ]
  },
  {
   "cell_type": "code",
   "execution_count": 10,
   "id": "twelve-minnesota",
   "metadata": {},
   "outputs": [],
   "source": [
    "class BreastRNN(nn.Layer):\n",
    "    def __init__(self):\n",
    "        super(BreastRNN, self).__init__()\n",
    "\n",
    "        self.rnn = nn.LSTM(\n",
    "            input_size=1,\n",
    "            hidden_size=64,\n",
    "            num_layers=1,\n",
    "        )\n",
    "        self.out = nn.Linear(64, 1)\n",
    "\n",
    "    def forward(self, x):\n",
    "        r_out, (h_n, h_c) = self.rnn(x, None)\n",
    "        out = self.out(r_out[:, -1, :])\n",
    "        \n",
    "        return out"
   ]
  },
  {
   "cell_type": "code",
   "execution_count": 11,
   "id": "closing-opera",
   "metadata": {},
   "outputs": [
    {
     "name": "stdout",
     "output_type": "stream",
     "text": [
      "----------------------------------------------------------------------------------------------\n",
      " Layer (type)       Input Shape                   Output Shape                   Param #    \n",
      "==============================================================================================\n",
      "    LSTM-1       [[1, 13, 1], None]  [[1, 13, 64], [[1, 1, 64], [1, 1, 64]]]     17,152     \n",
      "   Linear-1          [[1, 64]]                       [1, 1]                        65       \n",
      "==============================================================================================\n",
      "Total params: 17,217\n",
      "Trainable params: 17,217\n",
      "Non-trainable params: 0\n",
      "----------------------------------------------------------------------------------------------\n",
      "Input size (MB): 0.00\n",
      "Forward/backward pass size (MB): 0.04\n",
      "Params size (MB): 0.07\n",
      "Estimated Total Size (MB): 0.10\n",
      "----------------------------------------------------------------------------------------------\n",
      "\n"
     ]
    },
    {
     "data": {
      "text/plain": [
       "{'total_params': 17217, 'trainable_params': 17217}"
      ]
     },
     "execution_count": 11,
     "metadata": {},
     "output_type": "execute_result"
    }
   ],
   "source": [
    "paddle.summary(BreastRNN(), (1, 13, 1))"
   ]
  },
  {
   "cell_type": "code",
   "execution_count": 14,
   "id": "preliminary-jaguar",
   "metadata": {},
   "outputs": [],
   "source": [
    "epochs = 20\n",
    "batch_size = 32"
   ]
  },
  {
   "cell_type": "code",
   "execution_count": 15,
   "id": "checked-luxembourg",
   "metadata": {},
   "outputs": [
    {
     "name": "stdout",
     "output_type": "stream",
     "text": [
      "The loss value printed in the log is the current step, and the metric is the average value of previous step.\n",
      "Epoch 1/20\n",
      "step 6/6 [==============================] - loss: 846.5749 - 12ms/step\n",
      "Epoch 2/20\n",
      "step 6/6 [==============================] - loss: 464.9476 - 8ms/step\n",
      "Epoch 3/20\n",
      "step 6/6 [==============================] - loss: 152.8017 - 9ms/step\n",
      "Epoch 4/20\n",
      "step 6/6 [==============================] - loss: 322.6063 - 8ms/step\n",
      "Epoch 5/20\n",
      "step 6/6 [==============================] - loss: 77.3828 - 8ms/step\n",
      "Epoch 6/20\n",
      "step 6/6 [==============================] - loss: 51.7485 - 9ms/step\n",
      "Epoch 7/20\n",
      "step 6/6 [==============================] - loss: 247.1716 - 9ms/step\n",
      "Epoch 8/20\n",
      "step 6/6 [==============================] - loss: 66.1677 - 12ms/step\n",
      "Epoch 9/20\n",
      "step 6/6 [==============================] - loss: 19.2254 - 8ms/step\n",
      "Epoch 10/20\n",
      "step 6/6 [==============================] - loss: 55.7542 - 10ms/step\n",
      "Epoch 11/20\n",
      "step 6/6 [==============================] - loss: 103.3308 - 10ms/step\n",
      "Epoch 12/20\n",
      "step 6/6 [==============================] - loss: 166.6900 - 17ms/step\n",
      "Epoch 13/20\n",
      "step 6/6 [==============================] - loss: 62.8693 - 13ms/step\n",
      "Epoch 14/20\n",
      "step 6/6 [==============================] - loss: 141.1141 - 12ms/step\n",
      "Epoch 15/20\n",
      "step 6/6 [==============================] - loss: 58.6999 - 8ms/step\n",
      "Epoch 16/20\n",
      "step 6/6 [==============================] - loss: 109.8835 - 7ms/step\n",
      "Epoch 17/20\n",
      "step 6/6 [==============================] - loss: 50.1934 - 8ms/step\n",
      "Epoch 18/20\n",
      "step 6/6 [==============================] - loss: 47.7691 - 10ms/step\n",
      "Epoch 19/20\n",
      "step 6/6 [==============================] - loss: 56.6143 - 8ms/step\n",
      "Epoch 20/20\n",
      "step 6/6 [==============================] - loss: 51.1868 - 9ms/step\n"
     ]
    }
   ],
   "source": [
    "model = paddle.Model(BreastRNN())\n",
    "\n",
    "model.prepare(optimizer=paddle.optimizer.Adam(learning_rate=0.005, parameters=model.parameters()),\n",
    "              loss=paddle.nn.MSELoss())\n",
    "\n",
    "model.fit(train_loader,\n",
    "          epochs=epochs,\n",
    "          batch_size=batch_size,\n",
    "          verbose=1)"
   ]
  }
 ],
 "metadata": {
  "kernelspec": {
   "display_name": "Python 3",
   "language": "python",
   "name": "python3"
  },
  "language_info": {
   "codemirror_mode": {
    "name": "ipython",
    "version": 3
   },
   "file_extension": ".py",
   "mimetype": "text/x-python",
   "name": "python",
   "nbconvert_exporter": "python",
   "pygments_lexer": "ipython3",
   "version": "3.7.9"
  },
  "toc": {
   "base_numbering": 1,
   "nav_menu": {},
   "number_sections": true,
   "sideBar": true,
   "skip_h1_title": false,
   "title_cell": "Table of Contents",
   "title_sidebar": "Contents",
   "toc_cell": false,
   "toc_position": {
    "height": "calc(100% - 180px)",
    "left": "10px",
    "top": "150px",
    "width": "243.2px"
   },
   "toc_section_display": true,
   "toc_window_display": true
  }
 },
 "nbformat": 4,
 "nbformat_minor": 5
}
